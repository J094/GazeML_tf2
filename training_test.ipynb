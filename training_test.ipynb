{
 "cells": [
  {
   "cell_type": "code",
   "execution_count": 1,
   "id": "proper-remainder",
   "metadata": {
    "scrolled": false
   },
   "outputs": [
    {
     "name": "stdout",
     "output_type": "stream",
     "text": [
      "INFO:tensorflow:Using MirroredStrategy with devices ('/job:localhost/replica:0/task:0/device:GPU:0',)\n",
      "INFO:tensorflow:Using MirroredStrategy with devices ('/job:localhost/replica:0/task:0/device:GPU:0',)\n",
      "INFO:tensorflow:Using MirroredStrategy with devices ('/job:localhost/replica:0/task:0/device:GPU:0',)\n",
      "INFO:tensorflow:Using MirroredStrategy with devices ('/job:localhost/replica:0/task:0/device:GPU:0',)\n"
     ]
    }
   ],
   "source": [
    "import os\n",
    "\n",
    "import tensorflow as tf\n",
    "\n",
    "import src.elg_train as elg_train\n",
    "from src.models.elg import ELGBuilder"
   ]
  },
  {
   "cell_type": "code",
   "execution_count": 2,
   "id": "advisory-graphics",
   "metadata": {},
   "outputs": [],
   "source": [
    "elg_builder = ELGBuilder(first_layer_stride=1, num_modules=3, num_feature_maps=32, input_shape=(36, 60))\n",
    "\n",
    "tfrecords_dir = 'E:/Devoloper/3_Python/workspace_idea/Datasets/UnityEyes_100000_samples_{}'.format('36x60')\n",
    "train_tfrecords = os.path.join(tfrecords_dir, 'train/*.tfrecords')\n",
    "val_tfrecords = os.path.join(tfrecords_dir, 'val/*.tfrecords')\n",
    "batch_size = 32\n",
    "tensorboard_dir = './logs/elg_ldmks'\n",
    "learning_rate = 0.00001\n",
    "start_epoch = 81\n",
    "epochs = 100"
   ]
  },
  {
   "cell_type": "code",
   "execution_count": 3,
   "id": "round-principle",
   "metadata": {},
   "outputs": [],
   "source": [
    "checkpoint = './models/{}/model-v0.0.1-epoch-73-loss-5.9328.h5'.format('elg_ldmks')"
   ]
  },
  {
   "cell_type": "code",
   "execution_count": null,
   "id": "digital-habitat",
   "metadata": {
    "scrolled": true
   },
   "outputs": [
    {
     "name": "stdout",
     "output_type": "stream",
     "text": [
      "INFO:tensorflow:Using MirroredStrategy with devices ('/job:localhost/replica:0/task:0/device:GPU:0',)\n",
      "INFO:tensorflow:Reduce to /job:localhost/replica:0/task:0/device:CPU:0 then broadcast to ('/job:localhost/replica:0/task:0/device:CPU:0',).\n",
      "INFO:tensorflow:Reduce to /job:localhost/replica:0/task:0/device:CPU:0 then broadcast to ('/job:localhost/replica:0/task:0/device:CPU:0',).\n",
      "INFO:tensorflow:Reduce to /job:localhost/replica:0/task:0/device:CPU:0 then broadcast to ('/job:localhost/replica:0/task:0/device:CPU:0',).\n",
      "INFO:tensorflow:Reduce to /job:localhost/replica:0/task:0/device:CPU:0 then broadcast to ('/job:localhost/replica:0/task:0/device:CPU:0',).\n",
      "INFO:tensorflow:Reduce to /job:localhost/replica:0/task:0/device:CPU:0 then broadcast to ('/job:localhost/replica:0/task:0/device:CPU:0',).\n",
      "INFO:tensorflow:Reduce to /job:localhost/replica:0/task:0/device:CPU:0 then broadcast to ('/job:localhost/replica:0/task:0/device:CPU:0',).\n",
      "INFO:tensorflow:Reduce to /job:localhost/replica:0/task:0/device:CPU:0 then broadcast to ('/job:localhost/replica:0/task:0/device:CPU:0',).\n",
      "INFO:tensorflow:Reduce to /job:localhost/replica:0/task:0/device:CPU:0 then broadcast to ('/job:localhost/replica:0/task:0/device:CPU:0',).\n",
      "INFO:tensorflow:Reduce to /job:localhost/replica:0/task:0/device:CPU:0 then broadcast to ('/job:localhost/replica:0/task:0/device:CPU:0',).\n",
      "INFO:tensorflow:Reduce to /job:localhost/replica:0/task:0/device:CPU:0 then broadcast to ('/job:localhost/replica:0/task:0/device:CPU:0',).\n",
      "Start training...\n",
      "Start epoch 81 with learning rate 1e-05\n",
      "Start distributed training...\n",
      "Trained batch 500 batch loss 4.56052876 epoch total loss 2633.98022\n",
      "Trained batch 1000 batch loss 5.3830204 epoch total loss 5270.75586\n",
      "Trained batch 1500 batch loss 6.32427168 epoch total loss 7887.81885\n"
     ]
    }
   ],
   "source": [
    "elg_train.train(elg_builder, 'elg_ldmks', epochs, start_epoch, learning_rate, tensorboard_dir,\n",
    "      batch_size, train_tfrecords, val_tfrecords, '0.0.1', checkpoint=checkpoint)"
   ]
  },
  {
   "cell_type": "code",
   "execution_count": 9,
   "id": "documentary-cursor",
   "metadata": {},
   "outputs": [],
   "source": [
    "@tf.function(autograph=True)\n",
    "def f():\n",
    "  v = tf.constant((0,))\n",
    "  for i in tf.range(3):\n",
    "    tf.autograph.experimental.set_loop_options(\n",
    "        shape_invariants=[(v, tf.TensorShape([None]))]\n",
    "    )\n",
    "    v = tf.concat((v, [i]), 0)\n",
    "  return v"
   ]
  },
  {
   "cell_type": "code",
   "execution_count": 10,
   "id": "characteristic-eight",
   "metadata": {},
   "outputs": [
    {
     "data": {
      "text/plain": [
       "<tf.Tensor: shape=(4,), dtype=int32, numpy=array([0, 0, 1, 2])>"
      ]
     },
     "execution_count": 10,
     "metadata": {},
     "output_type": "execute_result"
    }
   ],
   "source": [
    "f()"
   ]
  },
  {
   "cell_type": "code",
   "execution_count": null,
   "id": "invisible-detail",
   "metadata": {},
   "outputs": [],
   "source": []
  }
 ],
 "metadata": {
  "kernelspec": {
   "display_name": "Python 3",
   "language": "python",
   "name": "python3"
  },
  "language_info": {
   "codemirror_mode": {
    "name": "ipython",
    "version": 3
   },
   "file_extension": ".py",
   "mimetype": "text/x-python",
   "name": "python",
   "nbconvert_exporter": "python",
   "pygments_lexer": "ipython3",
   "version": "3.8.8"
  }
 },
 "nbformat": 4,
 "nbformat_minor": 5
}
